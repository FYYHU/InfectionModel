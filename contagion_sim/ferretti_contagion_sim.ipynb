{
 "cells": [
  {
   "cell_type": "markdown",
   "metadata": {},
   "source": [
    "# ViraTrace model evaluation - Ferretti data\n",
    "\n",
    "Evaluation of the ViraTrace model on the dataset provided by Luca Ferretti.\n"
   ]
  },
  {
   "cell_type": "markdown",
   "metadata": {},
   "source": [
    "### Notebook setup"
   ]
  },
  {
   "cell_type": "code",
   "execution_count": 1,
   "metadata": {},
   "outputs": [],
   "source": [
    "%load_ext autoreload\n",
    "%autoreload 2\n",
    "%matplotlib inline\n",
    "\n",
    "from matplotlib import pyplot as plt\n",
    "plt.rcParams['figure.figsize'] = [12, 6]\n",
    "import matplotlib.style as style\n",
    "style.use('seaborn')\n",
    "\n",
    "from sim_model import SimModel\n",
    "from multisim_model import MultisimModel\n",
    "from netgens import *\n",
    "import networkx as nx\n",
    "\n",
    "# must come after other imports to override standard tqdm\n",
    "from tqdm.notebook import tqdm"
   ]
  },
  {
   "cell_type": "markdown",
   "metadata": {},
   "source": [
    "### Ground truth simulation\n",
    "Following section runs 100 simulations, first of which is used later as the ground truth."
   ]
  },
  {
   "cell_type": "code",
   "execution_count": 2,
   "metadata": {},
   "outputs": [
    {
     "data": {
      "application/vnd.jupyter.widget-view+json": {
       "model_id": "fd380b4b4f3f46efbeb3d06519f375d1",
       "version_major": 2,
       "version_minor": 0
      },
      "text/plain": [
       "HBox(children=(FloatProgress(value=0.0, max=50.0), HTML(value='')))"
      ]
     },
     "metadata": {},
     "output_type": "display_data"
    },
    {
     "name": "stdout",
     "output_type": "stream",
     "text": [
      "\n"
     ]
    }
   ],
   "source": [
    "INFECTED_P = 10/10_000\n",
    "INFECTION_P = 0.02\n",
    "RECOVERY_T = 15\n",
    "RECOVERY_W = 5\n",
    "\n",
    "N_DAYS = 50\n",
    "N_SIMS = 100\n",
    "SHARE_INIT = True\n",
    "\n",
    "ANALYSIS_DAY = 10\n",
    "\n",
    "N = 10000\n",
    "edge_gen = edge_gen_ferretti()\n",
    "\n",
    "INIT_INFECTED = np.full(N, False)\n",
    "INIT_INFECTED[[7, 332, 445, 2364, 2656, 4168, 4453, 6097, 7752, 9505]] = True\n",
    "\n",
    "model = MultisimModel(N, edge_gen, INFECTED_P, INFECTION_P, \n",
    "                      RECOVERY_T, RECOVERY_W, N_DAYS, N_SIMS, \n",
    "                      share_init=SHARE_INIT, initial_infected=INIT_INFECTED,\n",
    "                      analysis_day=ANALYSIS_DAY, generate_daily_I=True,\n",
    "                      tqdm=tqdm)\n",
    "model.run_sim()"
   ]
  },
  {
   "cell_type": "code",
   "execution_count": 4,
   "metadata": {},
   "outputs": [
    {
     "data": {
      "image/png": "[encoded data removed]",
      "text/plain": [
       "<Figure size 576x396 with 1 Axes>"
      ]
     },
     "metadata": {},
     "output_type": "display_data"
    }
   ],
   "source": [
    "model.plot_stats()"
   ]
  },
  {
   "cell_type": "markdown",
   "metadata": {},
   "source": [
    "### Model evaluation"
   ]
  },
  {
   "cell_type": "code",
   "execution_count": 12,
   "metadata": {},
   "outputs": [],
   "source": [
    "# Generate daily infected data from the ground truth\n",
    "# Ground truth is contained in model.daily_I\n",
    "\n",
    "def generate_daily_data(daily_I, n_days, delay=7):\n",
    "    new_daily_I = daily_I[:n_days-delay] + [None] * delay\n",
    "    final_true_I = daily_I[n_days]\n",
    "    return new_daily_I, final_true_I"
   ]
  },
  {
   "cell_type": "code",
   "execution_count": 15,
   "metadata": {},
   "outputs": [
    {
     "name": "stdout",
     "output_type": "stream",
     "text": [
      "d_20_t_8\n"
     ]
    },
    {
     "data": {
      "application/vnd.jupyter.widget-view+json": {
       "model_id": "514101e1496343138a7f94d3f21883f0",
       "version_major": 2,
       "version_minor": 0
      },
      "text/plain": [
       "HBox(children=(FloatProgress(value=0.0, max=20.0), HTML(value='')))"
      ]
     },
     "metadata": {},
     "output_type": "display_data"
    },
    {
     "name": "stdout",
     "output_type": "stream",
     "text": [
      "\n",
      "d_20_t_16\n"
     ]
    },
    {
     "data": {
      "application/vnd.jupyter.widget-view+json": {
       "model_id": "1b1889359eec42cc8649db97423fe284",
       "version_major": 2,
       "version_minor": 0
      },
      "text/plain": [
       "HBox(children=(FloatProgress(value=0.0, max=20.0), HTML(value='')))"
      ]
     },
     "metadata": {},
     "output_type": "display_data"
    },
    {
     "name": "stdout",
     "output_type": "stream",
     "text": [
      "\n",
      "d_20_t_32\n"
     ]
    },
    {
     "data": {
      "application/vnd.jupyter.widget-view+json": {
       "model_id": "d6261591221e49c7abf8ba66a9c8aefc",
       "version_major": 2,
       "version_minor": 0
      },
      "text/plain": [
       "HBox(children=(FloatProgress(value=0.0, max=20.0), HTML(value='')))"
      ]
     },
     "metadata": {},
     "output_type": "display_data"
    },
    {
     "name": "stdout",
     "output_type": "stream",
     "text": [
      "\n",
      "d_30_t_8\n"
     ]
    },
    {
     "data": {
      "application/vnd.jupyter.widget-view+json": {
       "model_id": "d42d830d6a194acdabd5e03846cdd6e0",
       "version_major": 2,
       "version_minor": 0
      },
      "text/plain": [
       "HBox(children=(FloatProgress(value=0.0, max=30.0), HTML(value='')))"
      ]
     },
     "metadata": {},
     "output_type": "display_data"
    },
    {
     "name": "stdout",
     "output_type": "stream",
     "text": [
      "\n",
      "d_30_t_16\n"
     ]
    },
    {
     "data": {
      "application/vnd.jupyter.widget-view+json": {
       "model_id": "a5e74ae3880344b48867b688339be649",
       "version_major": 2,
       "version_minor": 0
      },
      "text/plain": [
       "HBox(children=(FloatProgress(value=0.0, max=30.0), HTML(value='')))"
      ]
     },
     "metadata": {},
     "output_type": "display_data"
    },
    {
     "name": "stdout",
     "output_type": "stream",
     "text": [
      "\n",
      "d_30_t_32\n"
     ]
    },
    {
     "data": {
      "application/vnd.jupyter.widget-view+json": {
       "model_id": "a8e8d8f2d98b49da819d6bd908a79e40",
       "version_major": 2,
       "version_minor": 0
      },
      "text/plain": [
       "HBox(children=(FloatProgress(value=0.0, max=30.0), HTML(value='')))"
      ]
     },
     "metadata": {},
     "output_type": "display_data"
    },
    {
     "name": "stdout",
     "output_type": "stream",
     "text": [
      "\n"
     ]
    }
   ],
   "source": [
    "# test for these N days\n",
    "N_DAYS_LIST = [20,30]\n",
    "# test for these daily test counts: 50% of tests are directly positive, and 50% are random\n",
    "N_DAILY_TESTS_LIST = [8,16,32]\n",
    "\n",
    "# node count\n",
    "N = 10_000\n",
    "\n",
    "\n",
    "# Same parameters as above\n",
    "# To test the performance of \"wrong\" parameters, change them here\n",
    "INFECTION_P = 0.02\n",
    "RECOVERY_T = 15\n",
    "RECOVERY_W = 5\n",
    "\n",
    "# Delay between infection and test\n",
    "TEST_DELAY = 7\n",
    "\n",
    "# Max number of tests to try on the final day\n",
    "N_TESTS = 400\n",
    "\n",
    "# Total number of simulations (e.g. size of infection vectors) used in the model\n",
    "N_SIMS = 500\n",
    "\n",
    "result_df = pd.DataFrame({'n_tests': range(N_TESTS)})\n",
    "\n",
    "for n_days in N_DAYS_LIST:\n",
    "    for n_daily_tests in N_DAILY_TESTS_LIST:\n",
    "        run_name = f'd_{n_days}_t_{n_daily_tests}'\n",
    "        print(run_name)\n",
    "        \n",
    "        # positive tests\n",
    "        daily_tests_p = int(n_daily_tests/2)\n",
    "        # random tests\n",
    "        daily_tests_r = int(n_daily_tests/2)\n",
    "        # edge generator from ferretti data\n",
    "        edge_gen = edge_gen_ferretti()\n",
    "        \n",
    "        # generate ground truth infections which are later sampled\n",
    "        daily_I, final_true_I = generate_daily_data(model.daily_I, n_days, TEST_DELAY)\n",
    "        \n",
    "        # create model\n",
    "        model_test = ContinuousMultisimModel(N, edge_gen, daily_I,\n",
    "                                             INFECTION_P, RECOVERY_T, RECOVERY_W, n_days, N_SIMS,\n",
    "                                             daily_tests_p, daily_tests_r, final_true_I, strong_negative=True,\n",
    "                                             tqdm=tqdm)\n",
    "        # run the model\n",
    "        model_test.run_sim()\n",
    "        \n",
    "        # add risk scores to the result DF\n",
    "        risks_df = pd.DataFrame({'node': range(N), 'risk': model_test.I.sum(axis=1), \n",
    "                         'positive': final_true_I, 'tested': model_test.tested_positive})\n",
    "        risks_df = risks_df.sort_values('risk', ascending=False)\n",
    "        risks_df = risks_df[~risks_df.tested]\n",
    "        \n",
    "        result_df[run_name] = [risks_df.head(n).positive.sum() for n in range(N_TESTS)]\n",
    "        "
   ]
  },
  {
   "cell_type": "code",
   "execution_count": 23,
   "metadata": {},
   "outputs": [
    {
     "data": {
      "text/plain": [
       "<matplotlib.axes._subplots.AxesSubplot at 0x7f918de51e80>"
      ]
     },
     "execution_count": 23,
     "metadata": {},
     "output_type": "execute_result"
    },
    {
     "data": {
      "image/png": "[encoded data removed]",
      "text/plain": [
       "<Figure size 576x396 with 1 Axes>"
      ]
     },
     "metadata": {},
     "output_type": "display_data"
    }
   ],
   "source": [
    "result_df.drop(columns='n_tests').plot(cmap='viridis')"
   ]
  },
  {
   "cell_type": "code",
   "execution_count": 25,
   "metadata": {},
   "outputs": [
    {
     "data": {
      "text/plain": [
       "n_tests      100\n",
       "d_20_t_8      36\n",
       "d_20_t_16     40\n",
       "d_20_t_32     47\n",
       "d_30_t_8      50\n",
       "d_30_t_16     48\n",
       "d_30_t_32     55\n",
       "Name: 100, dtype: int64"
      ]
     },
     "execution_count": 25,
     "metadata": {},
     "output_type": "execute_result"
    }
   ],
   "source": [
    "result_df.iloc[100]"
   ]
  },
  {
   "cell_type": "code",
   "execution_count": null,
   "metadata": {},
   "outputs": [],
   "source": []
  }
 ],
 "metadata": {
  "kernelspec": {
   "display_name": "venv-courier",
   "language": "python",
   "name": "venv-courier"
  },
  "language_info": {
   "codemirror_mode": {
    "name": "ipython",
    "version": 3
   },
   "file_extension": ".py",
   "mimetype": "text/x-python",
   "name": "python",
   "nbconvert_exporter": "python",
   "pygments_lexer": "ipython3",
   "version": "3.7.3"
  }
 },
 "nbformat": 4,
 "nbformat_minor": 2
}
